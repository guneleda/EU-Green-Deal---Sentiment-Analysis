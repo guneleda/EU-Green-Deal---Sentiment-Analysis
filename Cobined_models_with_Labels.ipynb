{
 "cells": [
  {
   "cell_type": "markdown",
   "metadata": {
    "colab": {
     "base_uri": "https://localhost:8080/"
    },
    "executionInfo": {
     "elapsed": 22900,
     "status": "ok",
     "timestamp": 1683622841443,
     "user": {
      "displayName": "Eda Günel",
      "userId": "11013733903177303205"
     },
     "user_tz": -120
    },
    "id": "3rGlVwPMNs8I",
    "outputId": "73b1ad84-3d2d-4a83-ab8d-25796f025c54"
   },
   "source": [
    "# Combine All Model Results"
   ]
  },
  {
   "cell_type": "code",
   "execution_count": null,
   "metadata": {},
   "outputs": [],
   "source": [
    "from google.colab import drive\n",
    "drive.mount('/content/drive')"
   ]
  },
  {
   "cell_type": "code",
   "execution_count": null,
   "metadata": {
    "colab": {
     "base_uri": "https://localhost:8080/"
    },
    "executionInfo": {
     "elapsed": 606,
     "status": "ok",
     "timestamp": 1683622842046,
     "user": {
      "displayName": "Eda Günel",
      "userId": "11013733903177303205"
     },
     "user_tz": -120
    },
    "id": "1IQYCyKxNxYx",
    "outputId": "c78fad69-7ca7-4669-befd-9902760f5411"
   },
   "outputs": [],
   "source": [
    "%cd /content/drive/My Drive/Tilburg DSS/Thesis/Data"
   ]
  },
  {
   "cell_type": "code",
   "execution_count": null,
   "metadata": {
    "executionInfo": {
     "elapsed": 1448,
     "status": "ok",
     "timestamp": 1683622843491,
     "user": {
      "displayName": "Eda Günel",
      "userId": "11013733903177303205"
     },
     "user_tz": -120
    },
    "id": "bGfIZdXqN7PS"
   },
   "outputs": [],
   "source": [
    "import pandas as pd"
   ]
  },
  {
   "cell_type": "code",
   "execution_count": null,
   "metadata": {
    "executionInfo": {
     "elapsed": 368,
     "status": "ok",
     "timestamp": 1683622843857,
     "user": {
      "displayName": "Eda Günel",
      "userId": "11013733903177303205"
     },
     "user_tz": -120
    },
    "id": "naKwHVl9Oeou"
   },
   "outputs": [],
   "source": [
    "df_VADER_Textblob=pd.read_pickle(\"VADER_Textblob.pkl\")"
   ]
  },
  {
   "cell_type": "code",
   "execution_count": null,
   "metadata": {
    "executionInfo": {
     "elapsed": 3142,
     "status": "ok",
     "timestamp": 1683625255160,
     "user": {
      "displayName": "Eda Günel",
      "userId": "11013733903177303205"
     },
     "user_tz": -120
    },
    "id": "aDf78_zGOreE"
   },
   "outputs": [],
   "source": [
    "df_Roberta_Latest = pd.read_pickle(\"Roberta_Latest.pkl\")"
   ]
  },
  {
   "cell_type": "code",
   "execution_count": null,
   "metadata": {
    "executionInfo": {
     "elapsed": 3,
     "status": "ok",
     "timestamp": 1683625255403,
     "user": {
      "displayName": "Eda Günel",
      "userId": "11013733903177303205"
     },
     "user_tz": -120
    },
    "id": "z8u7kH3mjMz0"
   },
   "outputs": [],
   "source": [
    "df_Roberta_Latest=pd.DataFrame(df_Roberta_Latest, columns=['id', 'date','Dates', 'Time', 'tweet', 'hashtags', 'Roberta_Latest'])"
   ]
  },
  {
   "cell_type": "code",
   "execution_count": null,
   "metadata": {
    "executionInfo": {
     "elapsed": 2270,
     "status": "ok",
     "timestamp": 1683625257913,
     "user": {
      "displayName": "Eda Günel",
      "userId": "11013733903177303205"
     },
     "user_tz": -120
    },
    "id": "KugMMBeoVwHd"
   },
   "outputs": [],
   "source": [
    "df_BERTweet = pd.read_pickle(\"BERTweet.pkl\")"
   ]
  },
  {
   "cell_type": "code",
   "execution_count": null,
   "metadata": {
    "executionInfo": {
     "elapsed": 6,
     "status": "ok",
     "timestamp": 1683625257913,
     "user": {
      "displayName": "Eda Günel",
      "userId": "11013733903177303205"
     },
     "user_tz": -120
    },
    "id": "ceWKBBOtjedd"
   },
   "outputs": [],
   "source": [
    "df_BERTweet=pd.DataFrame(df_BERTweet, columns=['id', 'date','Dates', 'Time', 'tweet', 'hashtags', 'BERTweet'])"
   ]
  },
  {
   "cell_type": "code",
   "execution_count": null,
   "metadata": {
    "executionInfo": {
     "elapsed": 5,
     "status": "ok",
     "timestamp": 1683625257914,
     "user": {
      "displayName": "Eda Günel",
      "userId": "11013733903177303205"
     },
     "user_tz": -120
    },
    "id": "CG-HPWyBebZZ"
   },
   "outputs": [],
   "source": [
    "from functools import reduce  "
   ]
  },
  {
   "cell_type": "code",
   "execution_count": null,
   "metadata": {
    "executionInfo": {
     "elapsed": 272,
     "status": "ok",
     "timestamp": 1683625563299,
     "user": {
      "displayName": "Eda Günel",
      "userId": "11013733903177303205"
     },
     "user_tz": -120
    },
    "id": "owME5XVSeXyt"
   },
   "outputs": [],
   "source": [
    "#COMBINE ALL USED MODELS\n",
    "data_merge1 = reduce(lambda left, right:     # Merge pandas DataFrames\n",
    "                     pd.merge(left , right,\n",
    "                              on = ['id', 'date','Dates', 'Time', 'tweet']),\n",
    "                     [df_VADER_Textblob, df_BERTweet,  df_Roberta_Latest])\n",
    "Models=pd.DataFrame(data_merge1)                   # Print merged DataFrame\n"
   ]
  },
  {
   "cell_type": "code",
   "execution_count": null,
   "metadata": {
    "executionInfo": {
     "elapsed": 250,
     "status": "ok",
     "timestamp": 1683625569522,
     "user": {
      "displayName": "Eda Günel",
      "userId": "11013733903177303205"
     },
     "user_tz": -120
    },
    "id": "p1S4-7uCicdi"
   },
   "outputs": [],
   "source": [
    "Models=Models.drop(columns=[\"hashtags_x\"])"
   ]
  },
  {
   "cell_type": "code",
   "execution_count": null,
   "metadata": {
    "executionInfo": {
     "elapsed": 252,
     "status": "ok",
     "timestamp": 1683625614910,
     "user": {
      "displayName": "Eda Günel",
      "userId": "11013733903177303205"
     },
     "user_tz": -120
    },
    "id": "Q6rUmMGzkTXA"
   },
   "outputs": [],
   "source": [
    "Models= Models[['id', 'date', 'tweet', 'Dates', 'Time','hashtags_y','TextBlob_Polarity_lem', 'TextBlob_Polarity_unproc',\n",
    "       'polarity_lem','unprocessed_VADER', 'BERTweet','Roberta_Latest']]"
   ]
  },
  {
   "cell_type": "markdown",
   "metadata": {},
   "source": [
    "## Convert the labels as Positive=1, Negative=-1, Neutral=0"
   ]
  },
  {
   "cell_type": "code",
   "execution_count": null,
   "metadata": {
    "executionInfo": {
     "elapsed": 252,
     "status": "ok",
     "timestamp": 1683625653860,
     "user": {
      "displayName": "Eda Günel",
      "userId": "11013733903177303205"
     },
     "user_tz": -120
    },
    "id": "La4sxlpunYyA"
   },
   "outputs": [],
   "source": [
    "preds=[]\n",
    "for i in Models.BERTweet:\n",
    "    for j in i:\n",
    "        if j[\"label\"].startswith('P'):\n",
    "            preds.append(1)\n",
    "        elif j[\"label\"].startswith('NEU'):\n",
    "            preds.append(0)\n",
    "        else:\n",
    "            preds.append(-1)"
   ]
  },
  {
   "cell_type": "code",
   "execution_count": null,
   "metadata": {
    "executionInfo": {
     "elapsed": 2,
     "status": "ok",
     "timestamp": 1683625656324,
     "user": {
      "displayName": "Eda Günel",
      "userId": "11013733903177303205"
     },
     "user_tz": -120
    },
    "id": "0JTCbmjIncYX"
   },
   "outputs": [],
   "source": [
    "Models[\"BERTweet\"]=pd.DataFrame(data=preds)"
   ]
  },
  {
   "cell_type": "code",
   "execution_count": null,
   "metadata": {
    "executionInfo": {
     "elapsed": 2,
     "status": "ok",
     "timestamp": 1683625658137,
     "user": {
      "displayName": "Eda Günel",
      "userId": "11013733903177303205"
     },
     "user_tz": -120
    },
    "id": "bh0OPFUpnhmu"
   },
   "outputs": [],
   "source": [
    "preds2=[]\n",
    "for i in Models.Roberta_Latest:\n",
    "    for j in i:\n",
    "        if j[\"label\"].startswith('p'):\n",
    "            preds2.append(1)\n",
    "        elif j[\"label\"].startswith('neu'):\n",
    "            preds2.append(0)\n",
    "        else:\n",
    "            preds2.append(-1)"
   ]
  },
  {
   "cell_type": "code",
   "execution_count": null,
   "metadata": {
    "executionInfo": {
     "elapsed": 2,
     "status": "ok",
     "timestamp": 1683625660304,
     "user": {
      "displayName": "Eda Günel",
      "userId": "11013733903177303205"
     },
     "user_tz": -120
    },
    "id": "iRwqKmpvnm87"
   },
   "outputs": [],
   "source": [
    "Models[\"Roberta_Latest\"]=pd.DataFrame(data=preds2)"
   ]
  },
  {
   "cell_type": "code",
   "execution_count": null,
   "metadata": {
    "executionInfo": {
     "elapsed": 233,
     "status": "ok",
     "timestamp": 1683625274531,
     "user": {
      "displayName": "Eda Günel",
      "userId": "11013733903177303205"
     },
     "user_tz": -120
    },
    "id": "dapTS2MMnwTD"
   },
   "outputs": [],
   "source": [
    "#Convert the scores \n",
    "def getScores(score):\n",
    "      if score < 0:\n",
    "        return -1\n",
    "      elif score == 0:\n",
    "        return 0\n",
    "      else:\n",
    "        return 1\n"
   ]
  },
  {
   "cell_type": "code",
   "execution_count": null,
   "metadata": {
    "executionInfo": {
     "elapsed": 319,
     "status": "ok",
     "timestamp": 1683626017491,
     "user": {
      "displayName": "Eda Günel",
      "userId": "11013733903177303205"
     },
     "user_tz": -120
    },
    "id": "uvHCcmC9nyZN"
   },
   "outputs": [],
   "source": [
    "Models[\"TextBlob_Polarity_lem\"] = Models[\"TextBlob_Polarity_lem\"].apply(lambda x: getScores(x))"
   ]
  },
  {
   "cell_type": "code",
   "execution_count": null,
   "metadata": {
    "executionInfo": {
     "elapsed": 242,
     "status": "ok",
     "timestamp": 1683625878041,
     "user": {
      "displayName": "Eda Günel",
      "userId": "11013733903177303205"
     },
     "user_tz": -120
    },
    "id": "aQYTg98664wk"
   },
   "outputs": [],
   "source": [
    "Models['TextBlob_Polarity_unproc'] = Models['TextBlob_Polarity_unproc'].apply(lambda x: getScores(x))"
   ]
  },
  {
   "cell_type": "code",
   "execution_count": null,
   "metadata": {
    "executionInfo": {
     "elapsed": 864,
     "status": "ok",
     "timestamp": 1683625884033,
     "user": {
      "displayName": "Eda Günel",
      "userId": "11013733903177303205"
     },
     "user_tz": -120
    },
    "id": "OrdU91xNn1Cp"
   },
   "outputs": [],
   "source": [
    "def getScores2(score):\n",
    "      if score >= 0.35 :\n",
    "        return 1\n",
    "      elif score <= -0.35:\n",
    "        return -1\n",
    "      else:\n",
    "        return 0"
   ]
  },
  {
   "cell_type": "code",
   "execution_count": null,
   "metadata": {
    "executionInfo": {
     "elapsed": 245,
     "status": "ok",
     "timestamp": 1683625833259,
     "user": {
      "displayName": "Eda Günel",
      "userId": "11013733903177303205"
     },
     "user_tz": -120
    },
    "id": "K3X6rVcbn3BR"
   },
   "outputs": [],
   "source": [
    "Models[\"polarity_lem\"] = Models[\"polarity_lem\"].apply(lambda x: getScores2(x))"
   ]
  },
  {
   "cell_type": "code",
   "execution_count": null,
   "metadata": {
    "executionInfo": {
     "elapsed": 226,
     "status": "ok",
     "timestamp": 1683625973424,
     "user": {
      "displayName": "Eda Günel",
      "userId": "11013733903177303205"
     },
     "user_tz": -120
    },
    "id": "j6DShuE97ENZ"
   },
   "outputs": [],
   "source": [
    "Models[\"unprocessed_VADER\"] = Models[\"unprocessed_VADER\"].apply(lambda x: getScores2(x))"
   ]
  },
  {
   "cell_type": "code",
   "execution_count": null,
   "metadata": {
    "executionInfo": {
     "elapsed": 997,
     "status": "ok",
     "timestamp": 1683626022566,
     "user": {
      "displayName": "Eda Günel",
      "userId": "11013733903177303205"
     },
     "user_tz": -120
    },
    "id": "sZj9dogin5_Z"
   },
   "outputs": [],
   "source": [
    "Models.to_pickle(\"Models_with_Labels.pkl\")"
   ]
  },
  {
   "cell_type": "code",
   "execution_count": null,
   "metadata": {
    "executionInfo": {
     "elapsed": 11365,
     "status": "ok",
     "timestamp": 1683626035046,
     "user": {
      "displayName": "Eda Günel",
      "userId": "11013733903177303205"
     },
     "user_tz": -120
    },
    "id": "eePSVAQo7cKe"
   },
   "outputs": [],
   "source": [
    "Models.to_excel(\"Models_with_Labels.xlsx\")"
   ]
  }
 ],
 "metadata": {
  "colab": {
   "authorship_tag": "ABX9TyPSWFG/cU6EZ5cGeTsv/1ii",
   "provenance": []
  },
  "kernelspec": {
   "display_name": "Python 3 (ipykernel)",
   "language": "python",
   "name": "python3"
  },
  "language_info": {
   "codemirror_mode": {
    "name": "ipython",
    "version": 3
   },
   "file_extension": ".py",
   "mimetype": "text/x-python",
   "name": "python",
   "nbconvert_exporter": "python",
   "pygments_lexer": "ipython3",
   "version": "3.9.13"
  }
 },
 "nbformat": 4,
 "nbformat_minor": 1
}
