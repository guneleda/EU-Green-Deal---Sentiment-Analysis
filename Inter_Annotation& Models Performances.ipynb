{
 "cells": [
  {
   "cell_type": "markdown",
   "metadata": {
    "colab": {
     "background_save": true,
     "base_uri": "https://localhost:8080/"
    },
    "executionInfo": {
     "elapsed": 20818,
     "status": "ok",
     "timestamp": 1683619992033,
     "user": {
      "displayName": "Eda Günel",
      "userId": "11013733903177303205"
     },
     "user_tz": -120
    },
    "id": "CXfp2_z8h22b"
   },
   "source": [
    "# Inter Annotation Aggreement & Model Evaluation"
   ]
  },
  {
   "cell_type": "code",
   "execution_count": null,
   "metadata": {},
   "outputs": [],
   "source": [
    "from google.colab import drive\n",
    "drive.mount('/content/drive')"
   ]
  },
  {
   "cell_type": "code",
   "execution_count": null,
   "metadata": {
    "colab": {
     "background_save": true,
     "base_uri": "https://localhost:8080/"
    },
    "executionInfo": {
     "elapsed": 398,
     "status": "ok",
     "timestamp": 1683619992428,
     "user": {
      "displayName": "Eda Günel",
      "userId": "11013733903177303205"
     },
     "user_tz": -120
    },
    "id": "YOmYl-YHh3tB"
   },
   "outputs": [],
   "source": [
    "%cd /content/drive/My Drive/Tilburg DSS/Thesis/Data"
   ]
  },
  {
   "cell_type": "code",
   "execution_count": null,
   "metadata": {
    "colab": {
     "background_save": true
    },
    "id": "OdSKxgh2h8L-"
   },
   "outputs": [],
   "source": [
    "import pandas as pd"
   ]
  },
  {
   "cell_type": "code",
   "execution_count": null,
   "metadata": {
    "id": "OTcQ9JiUh_OV"
   },
   "outputs": [],
   "source": [
    "#import the file including the labels given by the raters\n",
    "df=pd.read_excel(\"Manual_Labelling_Annotators_.xlsx\")"
   ]
  },
  {
   "cell_type": "code",
   "execution_count": null,
   "metadata": {
    "id": "1-RF6ThriA--"
   },
   "outputs": [],
   "source": [
    "df=pd.DataFrame(data=df, columns=['Id', \"Tweet\", \"Annotator1\", \"Annotator2\", \"Annotator3\"])"
   ]
  },
  {
   "cell_type": "markdown",
   "metadata": {},
   "source": [
    "#### Sum the number of 0's, -1's and 1's on each row"
   ]
  },
  {
   "cell_type": "code",
   "execution_count": null,
   "metadata": {
    "id": "4DXS5peSiDfo"
   },
   "outputs": [],
   "source": [
    "df2=(df == 0).astype(int).sum(axis=1)"
   ]
  },
  {
   "cell_type": "code",
   "execution_count": null,
   "metadata": {
    "id": "m97rdATbiFgQ"
   },
   "outputs": [],
   "source": [
    "df3=(df == -1).astype(int).sum(axis=1)"
   ]
  },
  {
   "cell_type": "code",
   "execution_count": null,
   "metadata": {
    "id": "bnLMwcf1iHHl"
   },
   "outputs": [],
   "source": [
    "df4=(df == 1).astype(int).sum(axis=1)"
   ]
  },
  {
   "cell_type": "code",
   "execution_count": null,
   "metadata": {
    "id": "oPSBZEEUiIZN"
   },
   "outputs": [],
   "source": [
    "frames2=[df,df3,df2,df4]\n",
    "df5=pd.concat(frames2, axis=1)"
   ]
  },
  {
   "cell_type": "code",
   "execution_count": null,
   "metadata": {
    "id": "cbgNOfnqiKMq"
   },
   "outputs": [],
   "source": [
    "df5.columns =['Id','Tweet', 'Annotator1', 'Annotator2', 'Annotator3',\"Negative\",\"Neutral\",\"Positive\"]"
   ]
  },
  {
   "cell_type": "code",
   "execution_count": null,
   "metadata": {
    "id": "Tlq3_wOZiMrH"
   },
   "outputs": [],
   "source": [
    "df5.to_pickle(\"Annotation.pkl\")"
   ]
  },
  {
   "cell_type": "code",
   "execution_count": null,
   "metadata": {
    "id": "EOIy6dd7iYb2"
   },
   "outputs": [],
   "source": [
    "df_annotator=df5[[\"Negative\",\"Neutral\",\"Positive\"]]"
   ]
  },
  {
   "cell_type": "code",
   "execution_count": null,
   "metadata": {
    "id": "muBy0L5Uiad5"
   },
   "outputs": [],
   "source": [
    "data=df5[['Annotator1', 'Annotator2', 'Annotator3']]"
   ]
  },
  {
   "cell_type": "code",
   "execution_count": null,
   "metadata": {
    "id": "1fheuCLZwQxl"
   },
   "outputs": [],
   "source": [
    "import numpy as np"
   ]
  },
  {
   "cell_type": "code",
   "execution_count": null,
   "metadata": {
    "id": "qJV3jM6OkVcp"
   },
   "outputs": [],
   "source": [
    "data2=data.to_numpy()"
   ]
  },
  {
   "cell_type": "code",
   "execution_count": null,
   "metadata": {
    "id": "277Vbw_QxWtd"
   },
   "outputs": [],
   "source": [
    "transpose = np.array(data).transpose()"
   ]
  },
  {
   "cell_type": "markdown",
   "metadata": {},
   "source": [
    "## Compute the krippendorff's alpha"
   ]
  },
  {
   "cell_type": "code",
   "execution_count": null,
   "metadata": {
    "colab": {
     "base_uri": "https://localhost:8080/"
    },
    "executionInfo": {
     "elapsed": 5844,
     "status": "ok",
     "timestamp": 1683123405101,
     "user": {
      "displayName": "Eda Günel",
      "userId": "11013733903177303205"
     },
     "user_tz": -120
    },
    "id": "k9zwce-ovsTG",
    "outputId": "a9066a14-b062-4f49-fff9-08e22f892ce8"
   },
   "outputs": [],
   "source": [
    "pip install krippendorff"
   ]
  },
  {
   "cell_type": "code",
   "execution_count": null,
   "metadata": {
    "colab": {
     "base_uri": "https://localhost:8080/"
    },
    "executionInfo": {
     "elapsed": 4,
     "status": "ok",
     "timestamp": 1683123407241,
     "user": {
      "displayName": "Eda Günel",
      "userId": "11013733903177303205"
     },
     "user_tz": -120
    },
    "id": "Qo0gRtSGvoAa",
    "outputId": "e6453f67-e8c3-4ea7-a1a6-11433dfbf566"
   },
   "outputs": [],
   "source": [
    "import krippendorff as kd\n",
    "kd.alpha(transpose)"
   ]
  },
  {
   "cell_type": "code",
   "execution_count": null,
   "metadata": {
    "id": "LwDWorzUmCuC"
   },
   "outputs": [],
   "source": [
    "#import the file which includes the annotator's final rate and the BERT models on pre-processed data\n",
    "df_Models=pd.read_excel(\"Annotator_models_processedBERT11.xlsx\")"
   ]
  },
  {
   "cell_type": "code",
   "execution_count": null,
   "metadata": {
    "id": "nvPtXkyE0F8y"
   },
   "outputs": [],
   "source": [
    "df_Models=df_Models[['id', 'tweet', 'Annotator1', 'Annotator2', 'Annotator3','Polarity',\n",
    "       'TextBlob_Polarity_unproc',\n",
    "       'TextBlob_Polarity_lem.1','unprocessed_VADER','VADER_lem_comp', 'BERTweet',\n",
    "       'Roberta_Latest']]"
   ]
  },
  {
   "cell_type": "code",
   "execution_count": null,
   "metadata": {
    "id": "n0zlTF4i_Kwt"
   },
   "outputs": [],
   "source": [
    "#import the file including BERT models on unprocessed data\n",
    "df_BERT_unproc=pd.read_pickle(\"BERTweet_unproc.pkl\")\n",
    "df_RoBERTa_unproc=pd.read_pickle(\"Roberta_Latest_unproc.pkl\")"
   ]
  },
  {
   "cell_type": "code",
   "execution_count": null,
   "metadata": {
    "id": "SQ-bHmA9DRxs"
   },
   "outputs": [],
   "source": [
    "#take the same sample with the annotated tweets\n",
    "df_sampled_=df_BERT_unproc.sample(n=100, random_state=1)\n",
    "df_sampled_roberta=df_RoBERTa_unproc.sample(n=100, random_state=1)"
   ]
  },
  {
   "cell_type": "code",
   "execution_count": null,
   "metadata": {
    "id": "CdvyBO0eE0EP"
   },
   "outputs": [],
   "source": [
    "from functools import reduce  "
   ]
  },
  {
   "cell_type": "code",
   "execution_count": null,
   "metadata": {
    "id": "Ani-jwN7Ebcq"
   },
   "outputs": [],
   "source": [
    "# combine the models RoBERTa and BERTweet\n",
    "#reference: https://stackoverflow.com/questions/23668427/pandas-three-way-joining-multiple-dataframes-on-columns\n",
    "data_merge = reduce(lambda left, right:  \n",
    "                     pd.merge(left , right,\n",
    "                              on = ['id', 'tweet']),\n",
    "                     [df_sampled_,df_sampled_roberta])\n",
    "Models1=pd.DataFrame(data_merge)   "
   ]
  },
  {
   "cell_type": "code",
   "execution_count": null,
   "metadata": {
    "id": "HT9lvCAfFPUE"
   },
   "outputs": [],
   "source": [
    "Models1=Models1[['id', 'tweet', 'BERTweet_unproc','Roberta_Latest_unproc']]"
   ]
  },
  {
   "cell_type": "code",
   "execution_count": null,
   "metadata": {
    "id": "Ny9o-Zi3GuQ9"
   },
   "outputs": [],
   "source": [
    "preds=[]\n",
    "for i in Models1[\"BERTweet_unproc\"]:\n",
    "        if i[\"label\"].startswith('POS'):\n",
    "            preds.append(1)\n",
    "        elif i[\"label\"].startswith('NEU'):\n",
    "            preds.append(0)\n",
    "        else:\n",
    "            preds.append(-1)"
   ]
  },
  {
   "cell_type": "code",
   "execution_count": null,
   "metadata": {
    "colab": {
     "base_uri": "https://localhost:8080/"
    },
    "executionInfo": {
     "elapsed": 215,
     "status": "ok",
     "timestamp": 1683623295995,
     "user": {
      "displayName": "Eda Günel",
      "userId": "11013733903177303205"
     },
     "user_tz": -120
    },
    "id": "FAYuH4YvQpfC",
    "outputId": "2e6b715f-b631-4be7-f84d-c8697c70820c"
   },
   "outputs": [],
   "source": [
    "Models1[\"BERTweet_unproc\"]=pd.DataFrame(data=preds)"
   ]
  },
  {
   "cell_type": "code",
   "execution_count": null,
   "metadata": {
    "id": "AkXU6OUcJx4a"
   },
   "outputs": [],
   "source": [
    "preds2=[]\n",
    "for i in Models1.Roberta_Latest_unproc:\n",
    "    if i[\"label\"].startswith('p'):\n",
    "          preds2.append(1)\n",
    "    elif i[\"label\"].startswith('neu'):\n",
    "          preds2.append(0)\n",
    "    else:\n",
    "          preds2.append(-1)"
   ]
  },
  {
   "cell_type": "code",
   "execution_count": null,
   "metadata": {
    "colab": {
     "base_uri": "https://localhost:8080/"
    },
    "executionInfo": {
     "elapsed": 5,
     "status": "ok",
     "timestamp": 1683623298260,
     "user": {
      "displayName": "Eda Günel",
      "userId": "11013733903177303205"
     },
     "user_tz": -120
    },
    "id": "cdgffIb5Gv9k",
    "outputId": "7f667bef-14ce-4371-ecf5-5b692827fdd8"
   },
   "outputs": [],
   "source": [
    "Models1[\"Roberta_Latest_unproc\"]=pd.DataFrame(data=preds2)"
   ]
  },
  {
   "cell_type": "code",
   "execution_count": null,
   "metadata": {
    "id": "P4yaKju5KJ49"
   },
   "outputs": [],
   "source": [
    "data_merge1 = pd.concat([df_Models, Models1], axis=1)\n"
   ]
  },
  {
   "cell_type": "code",
   "execution_count": null,
   "metadata": {
    "id": "4BB4sVenKZxc"
   },
   "outputs": [],
   "source": [
    "#polarity: ground truth labels \n",
    "data_merge1=data_merge1[['id', 'tweet', 'Annotator1', 'Annotator2', 'Annotator3', 'Polarity',\n",
    "       'TextBlob_Polarity_unproc', 'TextBlob_Polarity_lem.1',\n",
    "       'unprocessed_VADER', 'VADER_lem_comp', 'BERTweet', 'Roberta_Latest',\n",
    "       'BERTweet_unproc', 'Roberta_Latest_unproc']]"
   ]
  },
  {
   "cell_type": "code",
   "execution_count": null,
   "metadata": {
    "id": "NRv9_w3f0OX_"
   },
   "outputs": [],
   "source": [
    "data_merge1.to_pickle(\"Manual_Labelling_Annotators_Models.pkl\")"
   ]
  },
  {
   "cell_type": "code",
   "execution_count": null,
   "metadata": {
    "id": "LbxyaE9W0Ymp"
   },
   "outputs": [],
   "source": [
    "df_Models2=data_merge1"
   ]
  },
  {
   "cell_type": "markdown",
   "metadata": {},
   "source": [
    "## Evaluation Metrics Calculation"
   ]
  },
  {
   "cell_type": "code",
   "execution_count": null,
   "metadata": {
    "colab": {
     "base_uri": "https://localhost:8080/"
    },
    "executionInfo": {
     "elapsed": 1961,
     "status": "ok",
     "timestamp": 1683623315266,
     "user": {
      "displayName": "Eda Günel",
      "userId": "11013733903177303205"
     },
     "user_tz": -120
    },
    "id": "5wVjVdPR1MY8",
    "outputId": "7f483557-9d0e-4160-ba49-f967c02662fb"
   },
   "outputs": [],
   "source": [
    "from sklearn.metrics import accuracy_score, classification_report\n",
    "\n",
    "# Show the classification report\n",
    "print(classification_report(df_Models2['Polarity'], df_Models2['Roberta_Latest']))"
   ]
  },
  {
   "cell_type": "code",
   "execution_count": null,
   "metadata": {
    "colab": {
     "base_uri": "https://localhost:8080/"
    },
    "executionInfo": {
     "elapsed": 230,
     "status": "ok",
     "timestamp": 1683623374598,
     "user": {
      "displayName": "Eda Günel",
      "userId": "11013733903177303205"
     },
     "user_tz": -120
    },
    "id": "oG22l6Y7MP2H",
    "outputId": "ed820eaf-da8f-4fa9-cb97-8d087d32f2e3"
   },
   "outputs": [],
   "source": [
    "# Show the classification report\n",
    "print(classification_report(df_Models2['Polarity'], df_Models2['Roberta_Latest_unproc']))"
   ]
  },
  {
   "cell_type": "code",
   "execution_count": null,
   "metadata": {
    "colab": {
     "base_uri": "https://localhost:8080/"
    },
    "executionInfo": {
     "elapsed": 911,
     "status": "ok",
     "timestamp": 1683623384165,
     "user": {
      "displayName": "Eda Günel",
      "userId": "11013733903177303205"
     },
     "user_tz": -120
    },
    "id": "N3tvMk6YMT_W",
    "outputId": "524ac7d5-c641-4cf5-b1a8-9dbeca9a80d8"
   },
   "outputs": [],
   "source": [
    "print(classification_report(df_Models2['Polarity'], df_Models2['BERTweet_unproc']))"
   ]
  },
  {
   "cell_type": "code",
   "execution_count": null,
   "metadata": {
    "colab": {
     "base_uri": "https://localhost:8080/"
    },
    "executionInfo": {
     "elapsed": 3,
     "status": "ok",
     "timestamp": 1683623389176,
     "user": {
      "displayName": "Eda Günel",
      "userId": "11013733903177303205"
     },
     "user_tz": -120
    },
    "id": "fCxMYBLgMjML",
    "outputId": "6adb6d4d-4191-43e6-93d6-ba5d10d07382"
   },
   "outputs": [],
   "source": [
    "print(classification_report(df_Models2['Polarity'], df_Models2['BERTweet']))"
   ]
  },
  {
   "cell_type": "code",
   "execution_count": null,
   "metadata": {
    "colab": {
     "base_uri": "https://localhost:8080/"
    },
    "executionInfo": {
     "elapsed": 418,
     "status": "ok",
     "timestamp": 1683623425825,
     "user": {
      "displayName": "Eda Günel",
      "userId": "11013733903177303205"
     },
     "user_tz": -120
    },
    "id": "3Hvsr9DQVxRb",
    "outputId": "20d038ce-dd4c-4ad5-a2dc-4c320e29a608"
   },
   "outputs": [],
   "source": [
    "from sklearn.metrics import accuracy_score, classification_report\n",
    "\n",
    "\n",
    "print(classification_report(df_Models2['Polarity'], df_Models2['TextBlob_Polarity_lem.1']))"
   ]
  },
  {
   "cell_type": "code",
   "execution_count": null,
   "metadata": {
    "colab": {
     "base_uri": "https://localhost:8080/"
    },
    "executionInfo": {
     "elapsed": 4,
     "status": "ok",
     "timestamp": 1683623433273,
     "user": {
      "displayName": "Eda Günel",
      "userId": "11013733903177303205"
     },
     "user_tz": -120
    },
    "id": "ZJLkKkFcWCQm",
    "outputId": "aa30efc7-94ca-4d7f-e8f8-2b87e41898e7"
   },
   "outputs": [],
   "source": [
    "print(classification_report(df_Models2['Polarity'], df_Models2['TextBlob_Polarity_unproc']))"
   ]
  },
  {
   "cell_type": "code",
   "execution_count": null,
   "metadata": {
    "colab": {
     "base_uri": "https://localhost:8080/"
    },
    "executionInfo": {
     "elapsed": 4,
     "status": "ok",
     "timestamp": 1683623450447,
     "user": {
      "displayName": "Eda Günel",
      "userId": "11013733903177303205"
     },
     "user_tz": -120
    },
    "id": "x3G22GtRPwEt",
    "outputId": "36b15f8c-ab70-470c-d6bd-68f8c90b9625"
   },
   "outputs": [],
   "source": [
    "# Show the classification report\n",
    "print(classification_report(df_Models2['Polarity'], df_Models2['unprocessed_VADER']))"
   ]
  },
  {
   "cell_type": "code",
   "execution_count": null,
   "metadata": {
    "colab": {
     "base_uri": "https://localhost:8080/"
    },
    "executionInfo": {
     "elapsed": 329,
     "status": "ok",
     "timestamp": 1683623496138,
     "user": {
      "displayName": "Eda Günel",
      "userId": "11013733903177303205"
     },
     "user_tz": -120
    },
    "id": "ZltbwSPXSW6k",
    "outputId": "2d208578-18c2-4f8b-f79b-a830c019c56c"
   },
   "outputs": [],
   "source": [
    "print(classification_report(df_Models2['Polarity'], df_Models2['VADER_lem_comp']))"
   ]
  }
 ],
 "metadata": {
  "colab": {
   "authorship_tag": "ABX9TyNP9YHkvMSnYbAoP1rnBhua",
   "name": "",
   "version": ""
  },
  "kernelspec": {
   "display_name": "Python 3 (ipykernel)",
   "language": "python",
   "name": "python3"
  },
  "language_info": {
   "codemirror_mode": {
    "name": "ipython",
    "version": 3
   },
   "file_extension": ".py",
   "mimetype": "text/x-python",
   "name": "python",
   "nbconvert_exporter": "python",
   "pygments_lexer": "ipython3",
   "version": "3.9.13"
  }
 },
 "nbformat": 4,
 "nbformat_minor": 1
}
