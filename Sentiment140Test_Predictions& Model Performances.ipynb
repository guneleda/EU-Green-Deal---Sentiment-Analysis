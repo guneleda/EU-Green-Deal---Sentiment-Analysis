{
 "cells": [
  {
   "cell_type": "markdown",
   "metadata": {
    "colab": {
     "base_uri": "https://localhost:8080/"
    },
    "executionInfo": {
     "elapsed": 49307,
     "status": "ok",
     "timestamp": 1682946759721,
     "user": {
      "displayName": "Eda Günel",
      "userId": "11013733903177303205"
     },
     "user_tz": -120
    },
    "id": "e6_r8eYIJ75P",
    "outputId": "d1b81d0d-40cf-4a06-bce1-78fb0c448b3c"
   },
   "source": [
    "# Model Evaluation on Sentiment 140 Test Dataset"
   ]
  },
  {
   "cell_type": "code",
   "execution_count": null,
   "metadata": {},
   "outputs": [],
   "source": [
    "from google.colab import drive\n",
    "drive.mount('/content/drive')"
   ]
  },
  {
   "cell_type": "code",
   "execution_count": null,
   "metadata": {
    "colab": {
     "base_uri": "https://localhost:8080/"
    },
    "executionInfo": {
     "elapsed": 389,
     "status": "ok",
     "timestamp": 1682946760100,
     "user": {
      "displayName": "Eda Günel",
      "userId": "11013733903177303205"
     },
     "user_tz": -120
    },
    "id": "3evj6ZUZLuQo",
    "outputId": "698c773c-fa9d-4d4c-a6f3-f1498ec3023b"
   },
   "outputs": [],
   "source": [
    "%cd /content/drive/My Drive/Tilburg DSS/Thesis/Data\n",
    "import pandas as pd"
   ]
  },
  {
   "cell_type": "code",
   "execution_count": null,
   "metadata": {
    "colab": {
     "base_uri": "https://localhost:8080/"
    },
    "executionInfo": {
     "elapsed": 5315,
     "status": "ok",
     "timestamp": 1682946793843,
     "user": {
      "displayName": "Eda Günel",
      "userId": "11013733903177303205"
     },
     "user_tz": -120
    },
    "id": "gg6CkQfPLxG1",
    "outputId": "eec9d4a8-f0e0-484c-854a-dd34abafa01e"
   },
   "outputs": [],
   "source": [
    "pip install zipfile36"
   ]
  },
  {
   "cell_type": "code",
   "execution_count": null,
   "metadata": {
    "colab": {
     "base_uri": "https://localhost:8080/"
    },
    "executionInfo": {
     "elapsed": 6,
     "status": "ok",
     "timestamp": 1682946990722,
     "user": {
      "displayName": "Eda Günel",
      "userId": "11013733903177303205"
     },
     "user_tz": -120
    },
    "id": "taYzar_8TRSS",
    "outputId": "7d9e352e-5a82-4dc7-b7ab-3802494cae20"
   },
   "outputs": [],
   "source": [
    "#reference: https://github.com/Azure-Samples/MachineLearningSamples-TwitterSentimentPrediction\n",
    "#import the dataset downloaded from Kaggle\n",
    "import zipfile\n",
    "import pandas as pd\n",
    "with zipfile.ZipFile(\"trainingandtestdata.zip\") as z:\n",
    "    with z.open(\"testdata.manual.2009.06.14.csv\") as f:\n",
    "        colnames=['Polarity', 'X', 'Y', 'Z', 'T', \"Tweet\"]\n",
    "        test = pd.read_csv(f, header=None, sep=',', encoding='latin-1', names=colnames, index_col=False)\n",
    "      \n",
    "    print(train.head()) "
   ]
  },
  {
   "cell_type": "code",
   "execution_count": null,
   "metadata": {
    "id": "qybKM1rAYr7Z"
   },
   "outputs": [],
   "source": [
    "df=pd.DataFrame(test, columns=(\"Tweet\", \"Polarity\"))"
   ]
  },
  {
   "cell_type": "code",
   "execution_count": null,
   "metadata": {
    "colab": {
     "base_uri": "https://localhost:8080/"
    },
    "executionInfo": {
     "elapsed": 4,
     "status": "ok",
     "timestamp": 1682947021656,
     "user": {
      "displayName": "Eda Günel",
      "userId": "11013733903177303205"
     },
     "user_tz": -120
    },
    "id": "ck5hNPrLZtLh",
    "outputId": "1b2b0d37-6d72-4641-b1ad-1ea157829c51"
   },
   "outputs": [],
   "source": [
    "df.Polarity.value_counts()"
   ]
  },
  {
   "cell_type": "code",
   "execution_count": null,
   "metadata": {
    "id": "966asS3itKU0"
   },
   "outputs": [],
   "source": [
    "labels = {0: 'negative', 2: 'neutral', 4: 'positive'}\n",
    "df['Polarity'] = df['Polarity'].map(labels)"
   ]
  },
  {
   "cell_type": "code",
   "execution_count": null,
   "metadata": {
    "id": "Mtt23_HobC4d"
   },
   "outputs": [],
   "source": [
    "df.to_pickle(\"Sentiment140Test.pkl\")"
   ]
  },
  {
   "cell_type": "markdown",
   "metadata": {},
   "source": [
    "# VADER"
   ]
  },
  {
   "cell_type": "code",
   "execution_count": null,
   "metadata": {
    "colab": {
     "base_uri": "https://localhost:8080/"
    },
    "executionInfo": {
     "elapsed": 6630,
     "status": "ok",
     "timestamp": 1682947306243,
     "user": {
      "displayName": "Eda Günel",
      "userId": "11013733903177303205"
     },
     "user_tz": -120
    },
    "id": "VaeVzgid-za4",
    "outputId": "e9f7db1c-3238-417d-dc8d-d1e49244fa7e"
   },
   "outputs": [],
   "source": [
    "!pip install vaderSentiment"
   ]
  },
  {
   "cell_type": "code",
   "execution_count": null,
   "metadata": {
    "id": "sX_-Dlw8-0eB"
   },
   "outputs": [],
   "source": [
    "from vaderSentiment.vaderSentiment import SentimentIntensityAnalyzer"
   ]
  },
  {
   "cell_type": "code",
   "execution_count": null,
   "metadata": {
    "id": "AOQVdJtN-26h"
   },
   "outputs": [],
   "source": [
    "# Initialize VADER so we can use it later\n",
    "sentimentAnalyser = SentimentIntensityAnalyzer()"
   ]
  },
  {
   "cell_type": "code",
   "execution_count": null,
   "metadata": {
    "colab": {
     "base_uri": "https://localhost:8080/"
    },
    "executionInfo": {
     "elapsed": 3,
     "status": "ok",
     "timestamp": 1682947311252,
     "user": {
      "displayName": "Eda Günel",
      "userId": "11013733903177303205"
     },
     "user_tz": -120
    },
    "id": "vzm2z-5o-6Nm",
    "outputId": "0c0f92d0-b291-4c72-feb2-27c708e55c1c"
   },
   "outputs": [],
   "source": [
    "import numpy as np\n",
    "import pandas as pd\n",
    "import nltk\n",
    "#download vader from nltk\n",
    "nltk.download('vader_lexicon')"
   ]
  },
  {
   "cell_type": "code",
   "execution_count": null,
   "metadata": {
    "id": "b2VKOJn-hhNV"
   },
   "outputs": [],
   "source": [
    "df['polarity_unproc'] = df.Tweet.apply(lambda x: sentimentAnalyser.polarity_scores(x))"
   ]
  },
  {
   "cell_type": "markdown",
   "metadata": {},
   "source": [
    "# TEXTBLOB"
   ]
  },
  {
   "cell_type": "code",
   "execution_count": null,
   "metadata": {
    "id": "6ISkESy4_fIi"
   },
   "outputs": [],
   "source": [
    "from textblob import TextBlob"
   ]
  },
  {
   "cell_type": "code",
   "execution_count": null,
   "metadata": {
    "id": "F_HxI3v__gGt"
   },
   "outputs": [],
   "source": [
    "def getSubjectivity(text):\n",
    "    return TextBlob(text).sentiment.subjectivity\n",
    "  \n",
    " #Create a function to get the polarity\n",
    "def getPolarity(text):\n",
    "    return TextBlob(text).sentiment.polarity\n",
    "  "
   ]
  },
  {
   "cell_type": "code",
   "execution_count": null,
   "metadata": {
    "id": "5H5eihTbicVl"
   },
   "outputs": [],
   "source": [
    "df[\"TextBlob_Polarity_unproc\"]=df[\"Tweet\"].apply(lambda x: getPolarity(x))"
   ]
  },
  {
   "cell_type": "code",
   "execution_count": null,
   "metadata": {
    "id": "WhzD2in1_tra"
   },
   "outputs": [],
   "source": [
    "sentiment_VADER_Textblob=pd.DataFrame(data=df, columns=[\"Tweet\", \"Polarity\", 'polarity_unproc', 'TextBlob_Polarity_unproc'])"
   ]
  },
  {
   "cell_type": "code",
   "execution_count": null,
   "metadata": {
    "id": "PVUETiNZiL4f"
   },
   "outputs": [],
   "source": [
    "sentiment_VADER_Textblob[\"polarity_unproc\"]=df.polarity_unproc.apply(lambda x: x[\"compound\"])"
   ]
  },
  {
   "cell_type": "code",
   "execution_count": null,
   "metadata": {
    "id": "WPgY6OEJA2JO"
   },
   "outputs": [],
   "source": [
    "sentiment_VADER_Textblob.to_pickle(\"Sentiment140_test_VADER_Textblob.pkl\")"
   ]
  },
  {
   "cell_type": "code",
   "execution_count": null,
   "metadata": {
    "id": "EalRmMS5Fz-f"
   },
   "outputs": [],
   "source": [
    "labels = {'negative': -1, 'neutral':0, 'positive':1}\n",
    "sentiment_VADER_Textblob['Polarity'] = sentiment_VADER_Textblob['Polarity'].map(labels)"
   ]
  },
  {
   "cell_type": "code",
   "execution_count": null,
   "metadata": {
    "id": "4BxJY5RGGK0t"
   },
   "outputs": [],
   "source": [
    "def getScores(score):\n",
    "    if score < 0:\n",
    "        return -1\n",
    "    elif score == 0:\n",
    "        return 0\n",
    "    else:\n",
    "        return 1\n"
   ]
  },
  {
   "cell_type": "code",
   "execution_count": null,
   "metadata": {
    "id": "o4N3C0YsG_oS"
   },
   "outputs": [],
   "source": [
    "sentiment_VADER_Textblob[\"TextBlob_Polarity_unproc\"] = sentiment_VADER_Textblob[\"TextBlob_Polarity_unproc\"].apply(lambda x: getScores(x))"
   ]
  },
  {
   "cell_type": "code",
   "execution_count": null,
   "metadata": {
    "id": "v7scev3mHL2d"
   },
   "outputs": [],
   "source": [
    "def getScores2(score):\n",
    "    if score >= 0.05 :\n",
    "        return 1\n",
    "    elif score <= -0.05:\n",
    "        return -1\n",
    "    else:\n",
    "        return 0\n",
    " "
   ]
  },
  {
   "cell_type": "code",
   "execution_count": null,
   "metadata": {
    "id": "JEXnpuPKjFDq"
   },
   "outputs": [],
   "source": [
    "#Polarity_unproc: VADER model results on unprocessed data\n",
    "sentiment_VADER_Textblob[\"polarity_unproc\"] = sentiment_VADER_Textblob[\"polarity_unproc\"].apply(lambda x: getScores2(x))"
   ]
  },
  {
   "cell_type": "code",
   "execution_count": null,
   "metadata": {
    "id": "t6Ym__ydIxC_"
   },
   "outputs": [],
   "source": [
    "sent=sentiment_VADER_Textblob"
   ]
  },
  {
   "cell_type": "code",
   "execution_count": null,
   "metadata": {},
   "outputs": [],
   "source": [
    "df.to_pickle(\"Sentiment140_test_VADER_Textblob.pkl\") #save the DataFrame as a pickle file:"
   ]
  },
  {
   "cell_type": "markdown",
   "metadata": {},
   "source": [
    "# Evaluation Metrics"
   ]
  },
  {
   "cell_type": "code",
   "execution_count": null,
   "metadata": {
    "colab": {
     "base_uri": "https://localhost:8080/"
    },
    "executionInfo": {
     "elapsed": 5,
     "status": "ok",
     "timestamp": 1682948710982,
     "user": {
      "displayName": "Eda Günel",
      "userId": "11013733903177303205"
     },
     "user_tz": -120
    },
    "id": "S_wsK4yWjubf",
    "outputId": "57df2e01-139c-4570-e618-32cdab93fba3"
   },
   "outputs": [],
   "source": [
    "from sklearn.metrics import accuracy_score, classification_report\n",
    "print(classification_report(sent['Polarity'], sent['polarity_unproc']))"
   ]
  },
  {
   "cell_type": "code",
   "execution_count": null,
   "metadata": {
    "colab": {
     "base_uri": "https://localhost:8080/"
    },
    "executionInfo": {
     "elapsed": 3,
     "status": "ok",
     "timestamp": 1682948872379,
     "user": {
      "displayName": "Eda Günel",
      "userId": "11013733903177303205"
     },
     "user_tz": -120
    },
    "id": "Q3UnsPtckTxp",
    "outputId": "cf6a3b65-f653-49a7-dcd5-ce1c5e17b15d"
   },
   "outputs": [],
   "source": [
    "print(classification_report(sent['Polarity'], sent['TextBlob_Polarity_unproc']))"
   ]
  },
  {
   "cell_type": "markdown",
   "metadata": {},
   "source": [
    "# BERT Models"
   ]
  },
  {
   "cell_type": "code",
   "execution_count": null,
   "metadata": {},
   "outputs": [],
   "source": [
    "pip install -q transformers\n",
    "from transformers import pipeline"
   ]
  },
  {
   "cell_type": "code",
   "execution_count": null,
   "metadata": {},
   "outputs": [],
   "source": [
    "classifier = pipeline(\"sentiment-analysis\",model=\"finiteautomata/bertweet-base-sentiment-analysis\")\n",
    "classifier2 = pipeline(\"sentiment-analysis\", model=\"cardiffnlp/twitter-roberta-base-sentiment-latest\")"
   ]
  },
  {
   "cell_type": "code",
   "execution_count": null,
   "metadata": {},
   "outputs": [],
   "source": [
    "df[\"BERTweet_unproc\"]=df.Tweet.apply(lambda x: classifier(x))\n",
    "\n",
    "df[\"Roberta_Latest_unproc\"]=df.Tweet.apply(lambda x: classifier2(x))"
   ]
  },
  {
   "cell_type": "code",
   "execution_count": null,
   "metadata": {},
   "outputs": [],
   "source": [
    "df.to_pickle(\"BERTs_Sent140_test.pkl\")"
   ]
  },
  {
   "cell_type": "markdown",
   "metadata": {},
   "source": [
    "# Combine Model Results & Evaluate"
   ]
  },
  {
   "cell_type": "code",
   "execution_count": null,
   "metadata": {},
   "outputs": [],
   "source": [
    "df_140_VADER_Textblob=pd.read_pickle(\"Sentiment140_test_VADER_Textblob.pkl\")"
   ]
  },
  {
   "cell_type": "code",
   "execution_count": null,
   "metadata": {},
   "outputs": [],
   "source": [
    "df = pd.read_pickle(\"BERTs_Sent140_test.pkl\")"
   ]
  },
  {
   "cell_type": "code",
   "execution_count": null,
   "metadata": {},
   "outputs": [],
   "source": [
    "from functools import reduce  \n",
    "\n",
    "data_merge1 = reduce(lambda left, right:  \n",
    "                     pd.merge(left , right,\n",
    "                              on = ['Tweet', 'Polarity']),\n",
    "                     [df_140_VADER_Textblob, df])\n",
    "Models=pd.DataFrame(data_merge1)\n",
    "\n",
    "Models=Models.rename(columns={\"polarity_unproc\":\"VADER_unproc\"})\n",
    "\n",
    "Models.columns\n",
    "\n",
    "Models=Models[['Tweet', 'Polarity', 'VADER_unproc',\n",
    "       'TextBlob_Polarity_unproc', 'BERTweet_unproc',\n",
    "       'Roberta_Latest_unproc']]\n",
    "\n",
    "preds2=[]\n",
    "for i in Models.BERTweet_unproc:\n",
    "    for j in i:\n",
    "        if j[\"label\"].startswith('P'):\n",
    "            preds2.append(1)\n",
    "        elif j[\"label\"].startswith('NEU'):\n",
    "             preds2.append(0)\n",
    "        else:\n",
    "             preds2.append(-1)\n",
    "\n",
    "Models[\"BERTweet_unproc\"]=pd.DataFrame(data=preds2)\n",
    "\n",
    "labels = {'negative': -1, 'neutral':0, 'positive':1}\n",
    "Models['Polarity'] = Models['Polarity'].map(labels)\n",
    "\n",
    "\n",
    "preds4=[]\n",
    "for i in Models.Roberta_Latest_unproc:\n",
    "    for j in i:\n",
    "        if j[\"label\"].startswith('p'):\n",
    "            preds4.append(1)\n",
    "        elif j[\"label\"].startswith('neu'):\n",
    "            preds4.append(0)\n",
    "        else:\n",
    "            preds4.append(-1)\n",
    "\n",
    "Models[\"Roberta_Latest_unproc\"]=pd.DataFrame(data=preds4)\n",
    "\n",
    "Models\n",
    "\n",
    "def getScores(score):\n",
    "    if score < 0:\n",
    "        return -1\n",
    "    elif score == 0:\n",
    "        return 0\n",
    "    else:\n",
    "        return 1\n",
    "\n",
    "\n",
    "Models[\"TextBlob_Polarity_unproc\"]=Models[\"TextBlob_Polarity_unproc\"].apply(lambda x: getScores(x))\n",
    "\n",
    "def getScores2(score):\n",
    "    if score >= 0.05 :\n",
    "        return 1\n",
    "    elif score <= -0.05:\n",
    "        return -1\n",
    "    else:\n",
    "        return 0\n",
    "    \n",
    "Models[\"VADER_unproc\"] = Models[\"VADER_unproc\"].apply(lambda x: getScores2(x))\n",
    "\n",
    "# Show the classification report\n",
    "\n",
    "print(classification_report(Models['Polarity'], Models['VADER_unproc']))\n",
    "\n",
    "print(classification_report(Models['Polarity'], Models[\"TextBlob_Polarity_unproc\"]))\n",
    "\n",
    "print(classification_report(Models['Polarity'], Models['Roberta_Latest_unproc']))\n",
    "\n",
    "print(classification_report(Models['Polarity'], Models['BERTweet_unproc']))\n",
    "\n"
   ]
  }
 ],
 "metadata": {
  "colab": {
   "authorship_tag": "ABX9TyPThwAKSCZlOeKVDojPlbq+",
   "mount_file_id": "1DrH7d9-2l9Y6yxMxKMVObMt3oMgYf5yB",
   "provenance": []
  },
  "kernelspec": {
   "display_name": "Python 3 (ipykernel)",
   "language": "python",
   "name": "python3"
  },
  "language_info": {
   "codemirror_mode": {
    "name": "ipython",
    "version": 3
   },
   "file_extension": ".py",
   "mimetype": "text/x-python",
   "name": "python",
   "nbconvert_exporter": "python",
   "pygments_lexer": "ipython3",
   "version": "3.9.13"
  }
 },
 "nbformat": 4,
 "nbformat_minor": 1
}
