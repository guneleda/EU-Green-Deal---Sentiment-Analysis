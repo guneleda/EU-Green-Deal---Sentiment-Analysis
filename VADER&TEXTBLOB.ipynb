{
 "cells": [
  {
   "cell_type": "markdown",
   "metadata": {
    "colab": {
     "base_uri": "https://localhost:8080/"
    },
    "executionInfo": {
     "elapsed": 32206,
     "status": "ok",
     "timestamp": 1681200196772,
     "user": {
      "displayName": "Eda Günel",
      "userId": "11013733903177303205"
     },
     "user_tz": -120
    },
    "id": "7kjpx3_D3_k3",
    "outputId": "390553c2-2cad-4664-8f39-98b5ae4b9df0"
   },
   "source": [
    "# VADER"
   ]
  },
  {
   "cell_type": "code",
   "execution_count": null,
   "metadata": {
    "colab": {
     "base_uri": "https://localhost:8080/"
    },
    "executionInfo": {
     "elapsed": 6,
     "status": "ok",
     "timestamp": 1682889214822,
     "user": {
      "displayName": "Eda Günel",
      "userId": "11013733903177303205"
     },
     "user_tz": -120
    },
    "id": "Y5wO07rO4IU0",
    "outputId": "809f38a2-7890-4edf-e588-1132fb10e9b4"
   },
   "outputs": [],
   "source": [
    "%cd /content/drive/My Drive/Tilburg DSS/Thesis/Data"
   ]
  },
  {
   "cell_type": "code",
   "execution_count": null,
   "metadata": {},
   "outputs": [],
   "source": [
    "# import pre-processed data"
   ]
  },
  {
   "cell_type": "code",
   "execution_count": null,
   "metadata": {
    "id": "D5rMij8Y4D2f"
   },
   "outputs": [],
   "source": [
    "import pandas as pd\n",
    "df6 = pd.read_pickle(\"df6_processed.pkl\")"
   ]
  },
  {
   "cell_type": "code",
   "execution_count": null,
   "metadata": {
    "colab": {
     "base_uri": "https://localhost:8080/"
    },
    "executionInfo": {
     "elapsed": 4643,
     "status": "ok",
     "timestamp": 1681201666919,
     "user": {
      "displayName": "Eda Günel",
      "userId": "11013733903177303205"
     },
     "user_tz": -120
    },
    "id": "jWU04clJ4TVN",
    "outputId": "a308826f-3891-4e4c-a5a5-867bdf4e91bc"
   },
   "outputs": [],
   "source": [
    "!pip install vaderSentiment"
   ]
  },
  {
   "cell_type": "code",
   "execution_count": null,
   "metadata": {
    "id": "H_5EgKcJ6cQ-"
   },
   "outputs": [],
   "source": [
    "from vaderSentiment.vaderSentiment import SentimentIntensityAnalyzer"
   ]
  },
  {
   "cell_type": "code",
   "execution_count": null,
   "metadata": {
    "id": "GVD0c3r76ewe"
   },
   "outputs": [],
   "source": [
    "sentimentAnalyser = SentimentIntensityAnalyzer()"
   ]
  },
  {
   "cell_type": "code",
   "execution_count": null,
   "metadata": {
    "colab": {
     "base_uri": "https://localhost:8080/"
    },
    "executionInfo": {
     "elapsed": 2199,
     "status": "ok",
     "timestamp": 1681201669114,
     "user": {
      "displayName": "Eda Günel",
      "userId": "11013733903177303205"
     },
     "user_tz": -120
    },
    "id": "LFBRH4MJ7pz8",
    "outputId": "3509c555-ea72-4550-9598-9f52bb99e4de"
   },
   "outputs": [],
   "source": [
    "import numpy as np\n",
    "import pandas as pd\n",
    "import nltk\n",
    "#download vader from nltk\n",
    "nltk.download('vader_lexicon')"
   ]
  },
  {
   "cell_type": "code",
   "execution_count": null,
   "metadata": {},
   "outputs": [],
   "source": [
    "# apply VADER to both pre-processed and unprocessed data"
   ]
  },
  {
   "cell_type": "code",
   "execution_count": null,
   "metadata": {
    "id": "8my0y6-WJJdh"
   },
   "outputs": [],
   "source": [
    "df6['text_string_lem'] = df6.tweet_lem.apply(lambda x: ' '.join([item for item in x]))"
   ]
  },
  {
   "cell_type": "code",
   "execution_count": null,
   "metadata": {
    "id": "qbIbot3tJdSE"
   },
   "outputs": [],
   "source": [
    "df6['polarity_lem'] = df6.text_string_lem.apply(lambda x: sentimentAnalyser.polarity_scores(x))"
   ]
  },
  {
   "cell_type": "code",
   "execution_count": null,
   "metadata": {
    "id": "Ok8HhglYLeVb"
   },
   "outputs": [],
   "source": [
    "df6.to_pickle(\"df6_VADER_processed.pkl\") #save the DataFrame as a pickle file:"
   ]
  },
  {
   "cell_type": "code",
   "execution_count": null,
   "metadata": {
    "id": "bwJOmiCUNpiK"
   },
   "outputs": [],
   "source": [
    "df6.to_excel(\"df6_VADER_processed.xlsx\")"
   ]
  },
  {
   "cell_type": "markdown",
   "metadata": {},
   "source": [
    "# TEXTBLOB"
   ]
  },
  {
   "cell_type": "code",
   "execution_count": null,
   "metadata": {},
   "outputs": [],
   "source": [
    "from textblob import TextBlob"
   ]
  },
  {
   "cell_type": "code",
   "execution_count": null,
   "metadata": {},
   "outputs": [],
   "source": [
    "# reference: https://towardsdatascience.com/my-absolute-go-to-for-sentiment-analysis-textblob-3ac3a11d524\n",
    "def getPolarity(text):\n",
    "    return TextBlob(text).sentiment.polarity\n",
    "  \n"
   ]
  },
  {
   "cell_type": "code",
   "execution_count": null,
   "metadata": {},
   "outputs": [],
   "source": [
    "df6[\"TextBlob_Polarity_unproc\"] = df6[\"tweet\"].apply(lambda x: getPolarity(x))\n",
    " "
   ]
  },
  {
   "cell_type": "code",
   "execution_count": null,
   "metadata": {},
   "outputs": [],
   "source": [
    "df6[\"TextBlob_Polarity_lem\"] = df6[\"text_string_lem\"].apply(lambda x: getPolarity(x))"
   ]
  },
  {
   "cell_type": "code",
   "execution_count": null,
   "metadata": {},
   "outputs": [],
   "source": [
    "df_VADER_textblob=pd.DataFrame(data=df6, columns=[\"id\",\"date\", \"tweet\", \"Dates\", \"Time\",\"polarity_lem\",\"TextBlob_Polarity_lem\", \"unprocessed_VADER\", \"TextBlob_Polarity_unproc\",\"TextBlob_subjectivity_unproc\"])"
   ]
  },
  {
   "cell_type": "code",
   "execution_count": null,
   "metadata": {},
   "outputs": [],
   "source": [
    "df_VADER_textblob[\"unprocessed_VADER\"]=df_VADER_textblob.unprocessed_VADER.apply(lambda x: x[\"compound\"])\n"
   ]
  },
  {
   "cell_type": "code",
   "execution_count": null,
   "metadata": {},
   "outputs": [],
   "source": [
    "df_VADER_textblob[\"polarity_lem\"]=df6.polarity_lem.apply(lambda x: x[\"compound\"])"
   ]
  },
  {
   "cell_type": "code",
   "execution_count": null,
   "metadata": {},
   "outputs": [],
   "source": [
    "df_VADER_textblob.rename(columns={\"polarity_lem\":\"VADER_polarity\"})"
   ]
  },
  {
   "cell_type": "code",
   "execution_count": null,
   "metadata": {},
   "outputs": [],
   "source": [
    "df_VADER_textblob.to_pickle(\"VADER_Textblob.pkl\")"
   ]
  },
  {
   "cell_type": "code",
   "execution_count": null,
   "metadata": {},
   "outputs": [],
   "source": [
    "df_VADER_textblob.to_excel(\"VADER_Textblob.xlsx\")"
   ]
  },
  {
   "cell_type": "markdown",
   "metadata": {},
   "source": [
    "### Take a random samle for annotation"
   ]
  },
  {
   "cell_type": "code",
   "execution_count": null,
   "metadata": {},
   "outputs": [],
   "source": [
    "df_sampled_evaluation=df_VADER_textblob.sample(n=100, random_state=1)"
   ]
  },
  {
   "cell_type": "code",
   "execution_count": null,
   "metadata": {},
   "outputs": [],
   "source": [
    "df_sampled_evaluation.to_excel(\"df_VADER_textblob.sample.xlsx\")"
   ]
  },
  {
   "cell_type": "code",
   "execution_count": null,
   "metadata": {},
   "outputs": [],
   "source": [
    "df=pd.read_excel(\"df_VADER_textblob.sample.xlsx\")"
   ]
  },
  {
   "cell_type": "code",
   "execution_count": null,
   "metadata": {},
   "outputs": [],
   "source": [
    "def getScores(score):\n",
    "  if score < 0:\n",
    "    return -1\n",
    "  elif score == 0:\n",
    "    return 0\n",
    "  else:\n",
    "    return 1\n"
   ]
  },
  {
   "cell_type": "code",
   "execution_count": null,
   "metadata": {},
   "outputs": [],
   "source": [
    "df[\"TextBlob_Polarity_unproc\"] = df[\"TextBlob_Polarity_unproc\"].apply(lambda x: getScores(x))"
   ]
  },
  {
   "cell_type": "code",
   "execution_count": null,
   "metadata": {},
   "outputs": [],
   "source": [
    "df[\"TextBlob_Polarity_lem\"] = df[\"TextBlob_Polarity_lem\"].apply(lambda x: getScores(x))"
   ]
  },
  {
   "cell_type": "code",
   "execution_count": null,
   "metadata": {},
   "outputs": [],
   "source": [
    "def getScores2(score):\n",
    "    if score >= 0.35 :\n",
    "        return 1\n",
    "    elif score <= -0.35:\n",
    "        return -1\n",
    "    else:\n",
    "        return 0"
   ]
  },
  {
   "cell_type": "code",
   "execution_count": null,
   "metadata": {},
   "outputs": [],
   "source": [
    "df[\"unprocessed_VADER\"] = df[\"unprocessed_VADER\"].apply(lambda x: getScores2(x))"
   ]
  },
  {
   "cell_type": "code",
   "execution_count": null,
   "metadata": {},
   "outputs": [],
   "source": [
    "df[\"polarity_lem\"] = df[\"polarity_lem\"].apply(lambda x: getScores2(x))"
   ]
  },
  {
   "cell_type": "code",
   "execution_count": null,
   "metadata": {},
   "outputs": [],
   "source": [
    "df.to_excel(\"manual_labelling_VADER_TEXTblob.xlsx\")"
   ]
  }
 ],
 "metadata": {
  "colab": {
   "authorship_tag": "ABX9TyPmKmvxrUr7Ss7nT6Q0PijW",
   "provenance": []
  },
  "kernelspec": {
   "display_name": "Python 3 (ipykernel)",
   "language": "python",
   "name": "python3"
  },
  "language_info": {
   "codemirror_mode": {
    "name": "ipython",
    "version": 3
   },
   "file_extension": ".py",
   "mimetype": "text/x-python",
   "name": "python",
   "nbconvert_exporter": "python",
   "pygments_lexer": "ipython3",
   "version": "3.9.13"
  }
 },
 "nbformat": 4,
 "nbformat_minor": 1
}
