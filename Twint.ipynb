{
 "cells": [
  {
   "cell_type": "markdown",
   "id": "612b3aac",
   "metadata": {},
   "source": [
    "# Data Collection"
   ]
  },
  {
   "cell_type": "code",
   "execution_count": null,
   "id": "636de320",
   "metadata": {},
   "outputs": [],
   "source": [
    "#reference: https://github.com/twintproject/twint\n",
    "pip install --user --upgrade git+https://github.com/twintproject/twint.git@origin/master#egg=twint"
   ]
  },
  {
   "cell_type": "code",
   "execution_count": null,
   "id": "676a4c62",
   "metadata": {},
   "outputs": [],
   "source": [
    "pip install twint"
   ]
  },
  {
   "cell_type": "code",
   "execution_count": null,
   "id": "9ec75dce",
   "metadata": {},
   "outputs": [],
   "source": [
    "import twint"
   ]
  },
  {
   "cell_type": "code",
   "execution_count": null,
   "id": "3e4024c0",
   "metadata": {},
   "outputs": [],
   "source": [
    "import pandas as pd"
   ]
  },
  {
   "cell_type": "code",
   "execution_count": null,
   "id": "478809c0",
   "metadata": {},
   "outputs": [],
   "source": [
    "import nest_asyncio\n",
    "\n",
    "nest_asyncio.apply()"
   ]
  },
  {
   "cell_type": "code",
   "execution_count": null,
   "id": "f672c8f2",
   "metadata": {},
   "outputs": [],
   "source": [
    "from datetime import datetime, timedelta\n",
    "from dateutil.relativedelta import relativedelta"
   ]
  },
  {
   "cell_type": "code",
   "execution_count": null,
   "id": "f0898d48",
   "metadata": {},
   "outputs": [],
   "source": [
    "start_date = datetime(2021, 8, 1)\n",
    "end_date = datetime(2023, 2, 28)\n",
    "k = (end_date - start_date).days\n",
    "data = pd.DataFrame()\n",
    "\n",
    "for i in range (1,k+1):\n",
    "    c = twint.Config()\n",
    "    c.Search = \"lang:en EUGreenDeal OR EuropeanGreenDeal OR GreenDeal\" \n",
    "    c.Since = start_date.strftime('%Y-%m-%d')\n",
    "    the_day_after = start_date + timedelta(days = 1)\n",
    "    c.Until = the_day_after.strftime('%Y-%m-%d')\n",
    "    c.Pandas = True\n",
    "    twint.run.Search(c)\n",
    "    data = data.append(twint.storage.panda.Tweets_df, ignore_index = True)\n",
    "    start_date = start_date + timedelta(days = 1)"
   ]
  },
  {
   "cell_type": "code",
   "execution_count": null,
   "id": "8972fa6f",
   "metadata": {},
   "outputs": [],
   "source": [
    "data.to_excel(\"EUGreenDeal.xlsx\", encoding='utf-8', index=False)"
   ]
  }
 ],
 "metadata": {
  "kernelspec": {
   "display_name": "Python 3 (ipykernel)",
   "language": "python",
   "name": "python3"
  },
  "language_info": {
   "codemirror_mode": {
    "name": "ipython",
    "version": 3
   },
   "file_extension": ".py",
   "mimetype": "text/x-python",
   "name": "python",
   "nbconvert_exporter": "python",
   "pygments_lexer": "ipython3",
   "version": "3.9.13"
  }
 },
 "nbformat": 4,
 "nbformat_minor": 5
}
